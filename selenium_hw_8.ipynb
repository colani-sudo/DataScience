{
 "cells": [
  {
   "cell_type": "code",
   "execution_count": 113,
   "metadata": {},
   "outputs": [
    {
     "name": "stdout",
     "output_type": "stream",
     "text": [
      "['Keelung City', 'Taipei City', 'New Taipei City', 'Taoyuan City', 'Hsinchu City', 'Hsinchu County', 'Miaoli County', 'Taichung City', 'Changhua County', 'Nantou County', 'Yunlin County', 'Chiayi City', 'Chiayi County', 'Tainan City', 'Kaohsiung City', 'Pingtung County', 'Yilan County', 'Hualien County', 'Taitung County', 'Penghu County', 'Kinmen County', 'Lienchiang County', ''] "
     ]
    }
   ],
   "source": [
    "import time\n",
    "from selenium import webdriver\n",
    "from selenium.webdriver.common.by import By\n",
    "from selenium.webdriver.chrome.service import Service\n",
    "\n",
    "driverPath = \"chromedriver.exe\"\n",
    "s = Service(executable_path=driverPath)\n",
    "\n",
    "driver = webdriver.Chrome(service=s) \n",
    "url = \"https://www.cwb.gov.tw/V8/E/W/County/County.html?CID=63\"\n",
    "\n",
    "driver.get(url)\n",
    "\n",
    "# List all the Cities\n",
    "cities = []\n",
    "tag1 = driver.find_element(By.XPATH, '//select[@id=\"CID\"]')\n",
    "options = tag1.find_elements(By.XPATH, './option')\n",
    "\n",
    "# Add cities to the list\n",
    "for option in options:\n",
    "    cities.append(option.text)\n",
    "\n",
    "# Print all the cities\n",
    "str = \"\"\n",
    "for city in cities:\n",
    "    str += city + \"'\"\n",
    "str = [str.replace(\"Choose a City/County'\",\"\").split(\"'\")]\n",
    "# Print all the cities in one line\n",
    "for i in str:\n",
    "    print(i, end=\" \")\n",
    "\n",
    "\n",
    "\n",
    "\n",
    "\n"
   ]
  },
  {
   "cell_type": "code",
   "execution_count": 116,
   "metadata": {},
   "outputs": [
    {
     "ename": "NoSuchWindowException",
     "evalue": "Message: no such window: target window already closed\nfrom unknown error: web view not found\n  (Session info: chrome=112.0.5615.49)\nStacktrace:\n0   chromedriver                        0x0000000104e21670 chromedriver + 4298352\n1   chromedriver                        0x0000000104e19bbc chromedriver + 4266940\n2   chromedriver                        0x0000000104a4c758 chromedriver + 280408\n3   chromedriver                        0x0000000104a26cc8 chromedriver + 126152\n4   chromedriver                        0x0000000104aacaac chromedriver + 674476\n5   chromedriver                        0x0000000104abf890 chromedriver + 751760\n6   chromedriver                        0x0000000104a7a2d0 chromedriver + 467664\n7   chromedriver                        0x0000000104a7b354 chromedriver + 471892\n8   chromedriver                        0x0000000104de16c4 chromedriver + 4036292\n9   chromedriver                        0x0000000104de5c64 chromedriver + 4054116\n10  chromedriver                        0x0000000104dec2d8 chromedriver + 4080344\n11  chromedriver                        0x0000000104de6970 chromedriver + 4057456\n12  chromedriver                        0x0000000104dbd8dc chromedriver + 3889372\n13  chromedriver                        0x0000000104e0525c chromedriver + 4182620\n14  chromedriver                        0x0000000104e053b4 chromedriver + 4182964\n15  chromedriver                        0x0000000104e140f4 chromedriver + 4243700\n16  libsystem_pthread.dylib             0x000000018fa73fa8 _pthread_start + 148\n17  libsystem_pthread.dylib             0x000000018fa6eda0 thread_start + 8\n",
     "output_type": "error",
     "traceback": [
      "\u001b[0;31m---------------------------------------------------------------------------\u001b[0m",
      "\u001b[0;31mNoSuchWindowException\u001b[0m                     Traceback (most recent call last)",
      "Cell \u001b[0;32mIn[116], line 3\u001b[0m\n\u001b[1;32m      1\u001b[0m \u001b[39m# List all the City Codes\u001b[39;00m\n\u001b[0;32m----> 3\u001b[0m options \u001b[39m=\u001b[39m tag1\u001b[39m.\u001b[39;49mfind_elements(By\u001b[39m.\u001b[39;49mTAG_NAME, \u001b[39m'\u001b[39;49m\u001b[39moption\u001b[39;49m\u001b[39m'\u001b[39;49m)\n\u001b[1;32m      5\u001b[0m \u001b[39m# Print the values of all the options\u001b[39;00m\n\u001b[1;32m      6\u001b[0m \u001b[39mfor\u001b[39;00m option \u001b[39min\u001b[39;00m options:\n",
      "File \u001b[0;32m~/.pyenv/versions/3.11.1/lib/python3.11/site-packages/selenium/webdriver/remote/webelement.py:448\u001b[0m, in \u001b[0;36mWebElement.find_elements\u001b[0;34m(self, by, value)\u001b[0m\n\u001b[1;32m    445\u001b[0m     by \u001b[39m=\u001b[39m By\u001b[39m.\u001b[39mCSS_SELECTOR\n\u001b[1;32m    446\u001b[0m     value \u001b[39m=\u001b[39m \u001b[39mf\u001b[39m\u001b[39m'\u001b[39m\u001b[39m[name=\u001b[39m\u001b[39m\"\u001b[39m\u001b[39m{\u001b[39;00mvalue\u001b[39m}\u001b[39;00m\u001b[39m\"\u001b[39m\u001b[39m]\u001b[39m\u001b[39m'\u001b[39m\n\u001b[0;32m--> 448\u001b[0m \u001b[39mreturn\u001b[39;00m \u001b[39mself\u001b[39;49m\u001b[39m.\u001b[39;49m_execute(Command\u001b[39m.\u001b[39;49mFIND_CHILD_ELEMENTS, {\u001b[39m\"\u001b[39;49m\u001b[39musing\u001b[39;49m\u001b[39m\"\u001b[39;49m: by, \u001b[39m\"\u001b[39;49m\u001b[39mvalue\u001b[39;49m\u001b[39m\"\u001b[39;49m: value})[\u001b[39m\"\u001b[39m\u001b[39mvalue\u001b[39m\u001b[39m\"\u001b[39m]\n",
      "File \u001b[0;32m~/.pyenv/versions/3.11.1/lib/python3.11/site-packages/selenium/webdriver/remote/webelement.py:404\u001b[0m, in \u001b[0;36mWebElement._execute\u001b[0;34m(self, command, params)\u001b[0m\n\u001b[1;32m    402\u001b[0m     params \u001b[39m=\u001b[39m {}\n\u001b[1;32m    403\u001b[0m params[\u001b[39m\"\u001b[39m\u001b[39mid\u001b[39m\u001b[39m\"\u001b[39m] \u001b[39m=\u001b[39m \u001b[39mself\u001b[39m\u001b[39m.\u001b[39m_id\n\u001b[0;32m--> 404\u001b[0m \u001b[39mreturn\u001b[39;00m \u001b[39mself\u001b[39;49m\u001b[39m.\u001b[39;49m_parent\u001b[39m.\u001b[39;49mexecute(command, params)\n",
      "File \u001b[0;32m~/.pyenv/versions/3.11.1/lib/python3.11/site-packages/selenium/webdriver/remote/webdriver.py:440\u001b[0m, in \u001b[0;36mWebDriver.execute\u001b[0;34m(self, driver_command, params)\u001b[0m\n\u001b[1;32m    438\u001b[0m response \u001b[39m=\u001b[39m \u001b[39mself\u001b[39m\u001b[39m.\u001b[39mcommand_executor\u001b[39m.\u001b[39mexecute(driver_command, params)\n\u001b[1;32m    439\u001b[0m \u001b[39mif\u001b[39;00m response:\n\u001b[0;32m--> 440\u001b[0m     \u001b[39mself\u001b[39;49m\u001b[39m.\u001b[39;49merror_handler\u001b[39m.\u001b[39;49mcheck_response(response)\n\u001b[1;32m    441\u001b[0m     response[\u001b[39m\"\u001b[39m\u001b[39mvalue\u001b[39m\u001b[39m\"\u001b[39m] \u001b[39m=\u001b[39m \u001b[39mself\u001b[39m\u001b[39m.\u001b[39m_unwrap_value(response\u001b[39m.\u001b[39mget(\u001b[39m\"\u001b[39m\u001b[39mvalue\u001b[39m\u001b[39m\"\u001b[39m, \u001b[39mNone\u001b[39;00m))\n\u001b[1;32m    442\u001b[0m     \u001b[39mreturn\u001b[39;00m response\n",
      "File \u001b[0;32m~/.pyenv/versions/3.11.1/lib/python3.11/site-packages/selenium/webdriver/remote/errorhandler.py:245\u001b[0m, in \u001b[0;36mErrorHandler.check_response\u001b[0;34m(self, response)\u001b[0m\n\u001b[1;32m    243\u001b[0m         alert_text \u001b[39m=\u001b[39m value[\u001b[39m\"\u001b[39m\u001b[39malert\u001b[39m\u001b[39m\"\u001b[39m]\u001b[39m.\u001b[39mget(\u001b[39m\"\u001b[39m\u001b[39mtext\u001b[39m\u001b[39m\"\u001b[39m)\n\u001b[1;32m    244\u001b[0m     \u001b[39mraise\u001b[39;00m exception_class(message, screen, stacktrace, alert_text)  \u001b[39m# type: ignore[call-arg]  # mypy is not smart enough here\u001b[39;00m\n\u001b[0;32m--> 245\u001b[0m \u001b[39mraise\u001b[39;00m exception_class(message, screen, stacktrace)\n",
      "\u001b[0;31mNoSuchWindowException\u001b[0m: Message: no such window: target window already closed\nfrom unknown error: web view not found\n  (Session info: chrome=112.0.5615.49)\nStacktrace:\n0   chromedriver                        0x0000000104e21670 chromedriver + 4298352\n1   chromedriver                        0x0000000104e19bbc chromedriver + 4266940\n2   chromedriver                        0x0000000104a4c758 chromedriver + 280408\n3   chromedriver                        0x0000000104a26cc8 chromedriver + 126152\n4   chromedriver                        0x0000000104aacaac chromedriver + 674476\n5   chromedriver                        0x0000000104abf890 chromedriver + 751760\n6   chromedriver                        0x0000000104a7a2d0 chromedriver + 467664\n7   chromedriver                        0x0000000104a7b354 chromedriver + 471892\n8   chromedriver                        0x0000000104de16c4 chromedriver + 4036292\n9   chromedriver                        0x0000000104de5c64 chromedriver + 4054116\n10  chromedriver                        0x0000000104dec2d8 chromedriver + 4080344\n11  chromedriver                        0x0000000104de6970 chromedriver + 4057456\n12  chromedriver                        0x0000000104dbd8dc chromedriver + 3889372\n13  chromedriver                        0x0000000104e0525c chromedriver + 4182620\n14  chromedriver                        0x0000000104e053b4 chromedriver + 4182964\n15  chromedriver                        0x0000000104e140f4 chromedriver + 4243700\n16  libsystem_pthread.dylib             0x000000018fa73fa8 _pthread_start + 148\n17  libsystem_pthread.dylib             0x000000018fa6eda0 thread_start + 8\n"
     ]
    }
   ],
   "source": [
    "# List all the City Codes\n",
    "\n",
    "options = tag1.find_elements(By.TAG_NAME, 'option')\n",
    "\n",
    "# Print the values of all the options\n",
    "for option in options:\n",
    "    value = option.get_attribute('value')\n",
    "    print(value)\n",
    "\n",
    "# Add cities to the list\n",
    "# print(tag)\n",
    "\n",
    "\n",
    "\n"
   ]
  },
  {
   "cell_type": "code",
   "execution_count": null,
   "metadata": {},
   "outputs": [],
   "source": []
  }
 ],
 "metadata": {
  "kernelspec": {
   "display_name": "Python 3",
   "language": "python",
   "name": "python3"
  },
  "language_info": {
   "codemirror_mode": {
    "name": "ipython",
    "version": 3
   },
   "file_extension": ".py",
   "mimetype": "text/x-python",
   "name": "python",
   "nbconvert_exporter": "python",
   "pygments_lexer": "ipython3",
   "version": "3.11.1"
  },
  "orig_nbformat": 4
 },
 "nbformat": 4,
 "nbformat_minor": 2
}
