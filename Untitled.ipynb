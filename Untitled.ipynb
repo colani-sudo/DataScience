{
 "cells": [
  {
   "cell_type": "code",
   "execution_count": 1,
   "id": "220ee10e-2646-4edc-b46b-9e3df1314eae",
   "metadata": {
    "collapsed": true,
    "jupyter": {
     "outputs_hidden": true
    },
    "tags": []
   },
   "outputs": [
    {
     "name": "stdout",
     "output_type": "stream",
     "text": [
      "Requirement already satisfied: selenium in /Users/musa.official/opt/anaconda3/lib/python3.9/site-packages (4.8.3)\n",
      "Requirement already satisfied: trio-websocket~=0.9 in /Users/musa.official/opt/anaconda3/lib/python3.9/site-packages (from selenium) (0.10.2)\n",
      "Requirement already satisfied: certifi>=2021.10.8 in /Users/musa.official/opt/anaconda3/lib/python3.9/site-packages (from selenium) (2022.9.24)\n",
      "Requirement already satisfied: urllib3[socks]~=1.26 in /Users/musa.official/opt/anaconda3/lib/python3.9/site-packages (from selenium) (1.26.11)\n",
      "Requirement already satisfied: trio~=0.17 in /Users/musa.official/opt/anaconda3/lib/python3.9/site-packages (from selenium) (0.22.0)\n",
      "Requirement already satisfied: sniffio in /Users/musa.official/opt/anaconda3/lib/python3.9/site-packages (from trio~=0.17->selenium) (1.2.0)\n",
      "Requirement already satisfied: exceptiongroup>=1.0.0rc9 in /Users/musa.official/opt/anaconda3/lib/python3.9/site-packages (from trio~=0.17->selenium) (1.1.1)\n",
      "Requirement already satisfied: outcome in /Users/musa.official/opt/anaconda3/lib/python3.9/site-packages (from trio~=0.17->selenium) (1.2.0)\n",
      "Requirement already satisfied: async-generator>=1.9 in /Users/musa.official/opt/anaconda3/lib/python3.9/site-packages (from trio~=0.17->selenium) (1.10)\n",
      "Requirement already satisfied: attrs>=19.2.0 in /Users/musa.official/opt/anaconda3/lib/python3.9/site-packages (from trio~=0.17->selenium) (21.4.0)\n",
      "Requirement already satisfied: idna in /Users/musa.official/opt/anaconda3/lib/python3.9/site-packages (from trio~=0.17->selenium) (3.3)\n",
      "Requirement already satisfied: sortedcontainers in /Users/musa.official/opt/anaconda3/lib/python3.9/site-packages (from trio~=0.17->selenium) (2.4.0)\n",
      "Requirement already satisfied: wsproto>=0.14 in /Users/musa.official/opt/anaconda3/lib/python3.9/site-packages (from trio-websocket~=0.9->selenium) (1.2.0)\n",
      "Requirement already satisfied: PySocks!=1.5.7,<2.0,>=1.5.6 in /Users/musa.official/opt/anaconda3/lib/python3.9/site-packages (from urllib3[socks]~=1.26->selenium) (1.7.1)\n",
      "Requirement already satisfied: h11<1,>=0.9.0 in /Users/musa.official/opt/anaconda3/lib/python3.9/site-packages (from wsproto>=0.14->trio-websocket~=0.9->selenium) (0.14.0)\n"
     ]
    }
   ],
   "source": [
    "# intall selenium package\n",
    "!pip install selenium"
   ]
  },
  {
   "cell_type": "code",
   "execution_count": 2,
   "id": "fa4dea43-44ac-40c7-8f32-e6477218ce60",
   "metadata": {},
   "outputs": [],
   "source": [
    "city_name = input()\n",
    "# TODO: use title format for the city name and make sure it has \"County\" at the end if needed\n",
    "if city_name != 'all':\n",
    "    city_name = city_name.title()"
   ]
  },
  {
   "attachments": {},
   "cell_type": "markdown",
   "id": "bb869a4f",
   "metadata": {},
   "source": []
  },
  {
   "cell_type": "code",
   "execution_count": 3,
   "id": "1d86e904-289e-44fb-aa19-cd9fcee6fb69",
   "metadata": {
    "tags": []
   },
   "outputs": [
    {
     "ename": "NoSuchElementException",
     "evalue": "Message: Could not locate element with visible text: Hualien City\n",
     "output_type": "error",
     "traceback": [
      "\u001b[0;31m---------------------------------------------------------------------------\u001b[0m",
      "\u001b[0;31mNoSuchElementException\u001b[0m                    Traceback (most recent call last)",
      "Cell \u001b[0;32mIn[3], line 33\u001b[0m\n\u001b[1;32m     31\u001b[0m \u001b[39melse\u001b[39;00m:\n\u001b[1;32m     32\u001b[0m     browser\u001b[39m.\u001b[39mfind_element(By\u001b[39m.\u001b[39mXPATH, \u001b[39m'\u001b[39m\u001b[39m//*[@id=\u001b[39m\u001b[39m\"\u001b[39m\u001b[39mCID\u001b[39m\u001b[39m\"\u001b[39m\u001b[39m]\u001b[39m\u001b[39m'\u001b[39m)\u001b[39m.\u001b[39mclick()\n\u001b[0;32m---> 33\u001b[0m     cities\u001b[39m.\u001b[39;49mselect_by_visible_text(\u001b[39mf\u001b[39;49m\u001b[39m'\u001b[39;49m\u001b[39m{\u001b[39;49;00mcity_name\u001b[39m}\u001b[39;49;00m\u001b[39m'\u001b[39;49m)\n\u001b[1;32m     34\u001b[0m     temperature \u001b[39m=\u001b[39m browser\u001b[39m.\u001b[39mfind_element(By\u001b[39m.\u001b[39mXPATH, \u001b[39m'\u001b[39m\u001b[39m//*[@id=\u001b[39m\u001b[39m\"\u001b[39m\u001b[39mPC_Week_MOD\u001b[39m\u001b[39m\"\u001b[39m\u001b[39m]/tbody/tr[1]/td[1]/p/span[@class=\u001b[39m\u001b[39m\"\u001b[39m\u001b[39mtem-C is-active\u001b[39m\u001b[39m\"\u001b[39m\u001b[39m]\u001b[39m\u001b[39m'\u001b[39m)\u001b[39m.\u001b[39mtext\n\u001b[1;32m     35\u001b[0m     \u001b[39mprint\u001b[39m(\u001b[39mf\u001b[39m\u001b[39m\"\u001b[39m\u001b[39m{\u001b[39;00mcity_name\u001b[39m}\u001b[39;00m\u001b[39m\"\u001b[39m)\n",
      "File \u001b[0;32m~/.pyenv/versions/3.11.1/lib/python3.11/site-packages/selenium/webdriver/support/select.py:134\u001b[0m, in \u001b[0;36mSelect.select_by_visible_text\u001b[0;34m(self, text)\u001b[0m\n\u001b[1;32m    131\u001b[0m             matched \u001b[39m=\u001b[39m \u001b[39mTrue\u001b[39;00m\n\u001b[1;32m    133\u001b[0m \u001b[39mif\u001b[39;00m \u001b[39mnot\u001b[39;00m matched:\n\u001b[0;32m--> 134\u001b[0m     \u001b[39mraise\u001b[39;00m NoSuchElementException(\u001b[39mf\u001b[39m\u001b[39m\"\u001b[39m\u001b[39mCould not locate element with visible text: \u001b[39m\u001b[39m{\u001b[39;00mtext\u001b[39m}\u001b[39;00m\u001b[39m\"\u001b[39m)\n",
      "\u001b[0;31mNoSuchElementException\u001b[0m: Message: Could not locate element with visible text: Hualien City\n"
     ]
    }
   ],
   "source": [
    "from selenium import webdriver\n",
    "from selenium.webdriver.common.by import By\n",
    "from selenium.webdriver.chrome.service import Service\n",
    "from selenium.webdriver.support.ui import Select\n",
    "from time import sleep\n",
    "\n",
    "driverPath = \"chromedriver.exe\"\n",
    "s = Service(executable_path=driverPath)\n",
    "\n",
    "browser = webdriver.Chrome(service=s)   \n",
    "browser.get('https://www.cwb.gov.tw/V8/E/W/County/County.html?CID=63')  \n",
    "\n",
    "tag1 = browser.find_element(By.XPATH, '//select[@id=\"CID\"]')\n",
    "# options = tag1.find_elements(By.XPATH, './option')\n",
    "\n",
    "# try using the Select class\n",
    "cities = Select(tag1)\n",
    "\n",
    "if city_name == 'all':\n",
    "    for option in cities.options:\n",
    "        if option.is_enabled():\n",
    "            cities.select_by_visible_text(f'{option.text}')\n",
    "        else:\n",
    "            continue\n",
    "\n",
    "        temperature = browser.find_element(By.XPATH, '//*[@id=\"PC_Week_MOD\"]/tbody/tr[1]/td[1]/p/span[@class=\"tem-C is-active\"]').text\n",
    "        \n",
    "        print(f\"{option.text}\")\n",
    "        print(f\"{temperature}\")\n",
    "        \n",
    "else:\n",
    "    browser.find_element(By.XPATH, '//*[@id=\"CID\"]').click()\n",
    "    cities.select_by_visible_text(f'{city_name}')\n",
    "    temperature = browser.find_element(By.XPATH, '//*[@id=\"PC_Week_MOD\"]/tbody/tr[1]/td[1]/p/span[@class=\"tem-C is-active\"]').text\n",
    "    print(f\"{city_name}\")\n",
    "    print(f\"{temperature}\")\n",
    "\n",
    "browser.quit()  "
   ]
  },
  {
   "cell_type": "code",
   "execution_count": 36,
   "id": "6b43f13d-70c6-47b0-9d29-8dee8563ba3d",
   "metadata": {},
   "outputs": [],
   "source": [
    "# //*[@id=\"CID\"]/option[7]\n",
    "# //*[@id=\"PC_Week_MOD\"]/tbody/tr[1]/td[1]/p/span[1] instead of using the @ symbol\n",
    "# //*[@id=\"CID\"]/option[3] taipei"
   ]
  },
  {
   "cell_type": "markdown",
   "id": "e67c8f7e-fcfa-44ee-b19b-365ceddd4481",
   "metadata": {},
   "source": [
    "### Question\n",
    "How to get the county names from the website because they appear after you click the drop-down option.<br>\n",
    "Also how to differentiate that I want the options under the select ID=\"CID\", not the others below."
   ]
  },
  {
   "cell_type": "code",
   "execution_count": 4,
   "id": "b38577df-3484-48bb-95b5-6819a4395825",
   "metadata": {},
   "outputs": [
    {
     "name": "stdout",
     "output_type": "stream",
     "text": [
      "Choose a City/County\n",
      "Keelung City\n",
      "Taipei City\n",
      "New Taipei City\n",
      "Taoyuan City\n",
      "Hsinchu City\n",
      "Hsinchu County\n",
      "Miaoli County\n",
      "Taichung City\n",
      "Changhua County\n",
      "Nantou County\n",
      "Yunlin County\n",
      "Chiayi City\n",
      "Chiayi County\n",
      "Tainan City\n",
      "Kaohsiung City\n",
      "Pingtung County\n",
      "Yilan County\n",
      "Hualien County\n",
      "Taitung County\n",
      "Penghu County\n",
      "Kinmen County\n",
      "Lienchiang County\n"
     ]
    }
   ],
   "source": [
    "for option in options:\n",
    "    print(option.text)"
   ]
  }
 ],
 "metadata": {
  "kernelspec": {
   "display_name": "Python 3 (ipykernel)",
   "language": "python",
   "name": "python3"
  },
  "language_info": {
   "codemirror_mode": {
    "name": "ipython",
    "version": 3
   },
   "file_extension": ".py",
   "mimetype": "text/x-python",
   "name": "python",
   "nbconvert_exporter": "python",
   "pygments_lexer": "ipython3",
   "version": "3.11.1"
  }
 },
 "nbformat": 4,
 "nbformat_minor": 5
}
