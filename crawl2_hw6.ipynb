{
 "cells": [
  {
   "cell_type": "code",
   "execution_count": 27,
   "metadata": {},
   "outputs": [],
   "source": [
    "# Crawler2 HW6               \n",
    "# Created by Matsenjwa Colani        410921343\n",
    "import requests\n",
    "from bs4 import BeautifulSoup\n",
    "\n",
    "# fetch exchange rates from the website\n",
    "def get_exchange_rates():\n",
    "    url = \"https://rate.bot.com.tw/xrt?Lang=en-US\"\n",
    "    response = requests.get(url)\n",
    "    soup = BeautifulSoup(response.content, \"html.parser\")\n",
    "    rows = soup.find_all(\"tr\")\n",
    "    exchange_rates = {}\n",
    "    for i in rows[1:]:\n",
    "        currency = rows.find(\"div\", {\"class\": \"visible-phone print_hide\"}).text.strip()\n",
    "        rate = rows.find_all(\"td\", {\"class\": \"rate-content-cash\"})[1].text.strip()\n",
    "        exchange_rates[currency] = rate\n",
    "        print(rate)\n",
    "    return exchange_rates\n"
   ]
  },
  {
   "cell_type": "code",
   "execution_count": 35,
   "metadata": {},
   "outputs": [],
   "source": [
    "# convert TWD to the target currency\n",
    "def convert_currency(currency, amount):\n",
    "    exchange_rate = get_exchange_rates()\n",
    "    if currency not in exchange_rate:\n",
    "        return f\"Exchange rate for {currency} is not available\"\n",
    "    exchange_rate = float(exchange_rate[currency])\n",
    "    exchanged_amount = amount / exchange_rate\n",
    "    print(exchange_rate)\n",
    "    return exchanged_amount\n",
    "\n",
    "#amount = convert_currency(\"USD\",50000)\n",
    "#print(amount)"
   ]
  },
  {
   "cell_type": "code",
   "execution_count": null,
   "metadata": {},
   "outputs": [],
   "source": [
    "# input\n",
    "currency = input(\"Enter the currency you want to exchange: \")\n",
    "amount = float(input(\"Enter the amount of TWD you want to exchange: \"))\n",
    "\n",
    "# output\n",
    "exchanged_amount = convert_currency(currency, amount)\n",
    "print(f\"{amount} TWD is equal to {exchanged_amount:.3f} {currency}\")"
   ]
  },
  {
   "cell_type": "code",
   "execution_count": 8,
   "metadata": {},
   "outputs": [],
   "source": [
    "import requests\n",
    "from bs4 import BeautifulSoup\n",
    "\n",
    "# function to scrape exchange rates from website\n",
    "def get_exchange_rates():\n",
    "    url = \"https://rate.bot.com.tw/xrt?Lang=en-US\"\n",
    "    response = requests.get(url)\n",
    "    soup = BeautifulSoup(response.content, \"html.parser\")\n",
    "    rows = soup.find_all(\"tr\")\n",
    "    exchange_rates = {}\n",
    "    for row in rows[1:]:\n",
    "        currency = row.find(\"div\", {\"class\": \"visible-phone print_hide\"}).text.strip()\n",
    "        rate = row.find_all(\"td\", {\"class\": \"rate-content-cash\"})[1].text.strip()\n",
    "        exchange_rates[currency] = rate\n",
    "    return exchange_rates\n",
    "\n",
    "# function to convert TWD to target currency\n",
    "def convert_currency(target_currency, amount):\n",
    "    exchange_rates = get_exchange_rates()\n",
    "    if target_currency not in exchange_rates:\n",
    "        return f\"Exchange rate for {target_currency} is not available\"\n",
    "    exchange_rate = float(exchange_rates[target_currency])\n",
    "    exchanged_amount = amount / exchange_rate\n",
    "    return exchanged_amount\n",
    "\n",
    "# user input\n",
    "target_currency = input(\"Enter the currency you want to exchange: \")\n",
    "amount = float(input(\"Enter the amount of TWD you want to exchange: \"))\n",
    "\n",
    "# output\n",
    "#exchanged_amount = convert_currency(target_currency, amount)\n",
    "#print(f\"{amount} TWD is equal to {exchanged_amount:.2f} {target_currency}\")\n"
   ]
  }
 ],
 "metadata": {
  "kernelspec": {
   "display_name": "Python 3",
   "language": "python",
   "name": "python3"
  },
  "language_info": {
   "codemirror_mode": {
    "name": "ipython",
    "version": 3
   },
   "file_extension": ".py",
   "mimetype": "text/x-python",
   "name": "python",
   "nbconvert_exporter": "python",
   "pygments_lexer": "ipython3",
   "version": "3.11.1"
  },
  "orig_nbformat": 4
 },
 "nbformat": 4,
 "nbformat_minor": 2
}
