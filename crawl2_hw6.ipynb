{
 "cells": [
  {
   "cell_type": "code",
   "execution_count": 4,
   "metadata": {},
   "outputs": [
    {
     "name": "stdout",
     "output_type": "stream",
     "text": [
      "input :\n",
      "USD\n",
      "50000\n",
      "\n",
      "Output :\n",
      "1668.057 USD\n"
     ]
    }
   ],
   "source": [
    "# Crawler2 HW6               \n",
    "# Created by Matsenjwa Colani        410921343\n",
    "\n",
    "import requests\n",
    "from bs4 import BeautifulSoup\n",
    "import pandas as pd\n",
    "\n",
    "# Read the currency you want to exchange for and amount\n",
    "print(\"Input :\")\n",
    "currency = input().upper()\n",
    "amount = int(input())\n",
    "\n",
    "\n",
    "print(currency)\n",
    "print(amount)\n",
    "print()\n",
    "print(\"Output :\")\n",
    "tables = pd.read_html(\"https://rate.bot.com.tw/xrt?Lang=en-US\")\n",
    "table = tables[0]\n",
    "\n",
    "# select only the first 5 columns of the table with .iloc\n",
    "table = table.iloc[:, :5]\n",
    "# rename the columns of the table to descriptive variable names\n",
    "table.columns = [\"Currency\", \"Buying_C_Rate\",\"Selling_C_Rate\",\"Buying_S_Rate\",\"Selling_S_Rate\"]\n",
    "\n",
    "# find the row with the given currency from the \"Currency\" column\n",
    "tr = table[table['Currency'].str.contains(currency)]\n",
    "\n",
    "# find the amount of the exchange currency\n",
    "if not tr.empty:\n",
    "    exchange_rate = tr.iloc[0]['Buying_C_Rate']\n",
    "    if exchange_rate == \"-\":\n",
    "        exchange_rate = tr.iloc[0]['Buying_S_Rate']\n",
    "    rec_amount = round((amount/float(exchange_rate)),3)\n",
    "    print(f\"{rec_amount} {currency}\")\n",
    "else:\n",
    "    print(\"Currency not found!\")"
   ]
  }
 ],
 "metadata": {
  "kernelspec": {
   "display_name": "Python 3",
   "language": "python",
   "name": "python3"
  },
  "language_info": {
   "codemirror_mode": {
    "name": "ipython",
    "version": 3
   },
   "file_extension": ".py",
   "mimetype": "text/x-python",
   "name": "python",
   "nbconvert_exporter": "python",
   "pygments_lexer": "ipython3",
   "version": "3.11.1"
  },
  "orig_nbformat": 4
 },
 "nbformat": 4,
 "nbformat_minor": 2
}
