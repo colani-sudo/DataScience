{
 "cells": [
  {
   "cell_type": "code",
   "execution_count": 7,
   "metadata": {},
   "outputs": [],
   "source": [
    "# Numpy Homework 9               \n",
    "# Created by Matsenjwa Colani        410921343\n",
    "# Created on 2019-10-29\n",
    "\n",
    "# Importing the libraries\n",
    "import numpy as np\n",
    "\n",
    "# Define exam scores lists\n",
    "exam1 = []\n",
    "exam2 = []\n",
    "\n",
    "# Read exam scores from user\n",
    "scores = int(input())\n",
    "while scores != -1:\n",
    "    exam1.append(scores)\n",
    "    scores = int(input())\n",
    "\n",
    "scores = int(input())\n",
    "while scores != -1:\n",
    "    exam2.append(scores)\n",
    "    scores = int(input())\n",
    "\n",
    "# Convert lists to numpy arrays\n",
    "exam1 = np.array(exam1).reshape(3,3)\n",
    "exam2 = np.array(exam2).reshape(3,3)\n",
    "\n"
   ]
  },
  {
   "cell_type": "code",
   "execution_count": null,
   "metadata": {},
   "outputs": [],
   "source": []
  },
  {
   "cell_type": "code",
   "execution_count": 43,
   "metadata": {},
   "outputs": [
    {
     "name": "stdout",
     "output_type": "stream",
     "text": [
      "[[ 65  70  85]\n",
      " [ 90 100  70]\n",
      " [ 70  50  20]]\n",
      "\n",
      "[[80 90 60]\n",
      " [30 95 60]\n",
      " [75 20 80]]\n",
      "\n",
      "[[82.5 80.  72.5]\n",
      " [70.  97.5 65. ]\n",
      " [82.5 -1.  -1. ]]\n"
     ]
    }
   ],
   "source": [
    "results = (exam1 + exam2) * 0.5\n",
    "\n",
    "# Add 10 points to each student\n",
    "for i in range(len(results/3)):\n",
    "    results[i][0] += 10 \n",
    "\n",
    "# Validate the results\n",
    "for i in range(results.shape[0]): \n",
    "    for j in range(results.shape[1]):\n",
    "        if results[i][j] > 100:\n",
    "            results[i][j] = 100\n",
    "        if results[i][j] < 60:\n",
    "            results[i][j] = -1\n",
    "\n",
    "print(exam1)\n",
    "print()\n",
    "print(exam2)\n",
    "print()\n",
    "print(results)"
   ]
  }
 ],
 "metadata": {
  "kernelspec": {
   "display_name": "Python 3",
   "language": "python",
   "name": "python3"
  },
  "language_info": {
   "codemirror_mode": {
    "name": "ipython",
    "version": 3
   },
   "file_extension": ".py",
   "mimetype": "text/x-python",
   "name": "python",
   "nbconvert_exporter": "python",
   "pygments_lexer": "ipython3",
   "version": "3.11.1"
  },
  "orig_nbformat": 4
 },
 "nbformat": 4,
 "nbformat_minor": 2
}
