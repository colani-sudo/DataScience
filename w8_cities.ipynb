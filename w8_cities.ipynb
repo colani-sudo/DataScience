{
 "cells": [
  {
   "cell_type": "code",
   "execution_count": 1,
   "metadata": {},
   "outputs": [
    {
     "name": "stdout",
     "output_type": "stream",
     "text": [
      "['Keelung City', 'Taipei City', 'New Taipei City', 'Taoyuan City', 'Hsinchu City', 'Hsinchu County', 'Miaoli County', 'Taichung City', 'Changhua County', 'Nantou County', 'Yunlin County', 'Chiayi City', 'Chiayi County', 'Tainan City', 'Kaohsiung City', 'Pingtung County', 'Yilan County', 'Hualien County', 'Taitung County', 'Penghu County', 'Kinmen County', 'Lienchiang County', ''] "
     ]
    }
   ],
   "source": [
    "import time\n",
    "from selenium import webdriver\n",
    "from selenium.webdriver.common.by import By\n",
    "from selenium.webdriver.chrome.service import Service\n",
    "\n",
    "driverPath = \"chromedriver.exe\"\n",
    "s = Service(executable_path=driverPath)\n",
    "\n",
    "driver = webdriver.Chrome(service=s) \n",
    "url = \"https://www.cwb.gov.tw/V8/E/W/County/County.html?CID=63\"\n",
    "\n",
    "driver.get(url)\n",
    "\n",
    "# List all the Cities\n",
    "cities = []\n",
    "tag1 = driver.find_element(By.XPATH, '//select[@id=\"CID\"]')\n",
    "options = tag1.find_elements(By.XPATH, './option')\n",
    "\n",
    "# Add cities to the list\n",
    "for option in options:\n",
    "    cities.append(option.text)\n",
    "\n",
    "# Print all the cities\n",
    "str = \"\"\n",
    "for city in cities:\n",
    "    #print( city, end=\"'\")\n",
    "    str += city + \"'\"\n",
    "str = [str.replace(\"Choose a City/County'\",\"\").split(\"'\")]\n",
    "# Print all the cities in one line\n",
    "for i in str:\n",
    "    print(i, end=\" \")"
   ]
  }
 ],
 "metadata": {
  "kernelspec": {
   "display_name": "Python 3",
   "language": "python",
   "name": "python3"
  },
  "language_info": {
   "codemirror_mode": {
    "name": "ipython",
    "version": 3
   },
   "file_extension": ".py",
   "mimetype": "text/x-python",
   "name": "python",
   "nbconvert_exporter": "python",
   "pygments_lexer": "ipython3",
   "version": "3.11.1"
  },
  "orig_nbformat": 4
 },
 "nbformat": 4,
 "nbformat_minor": 2
}
