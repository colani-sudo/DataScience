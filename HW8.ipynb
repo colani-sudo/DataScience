{
 "cells": [
  {
   "cell_type": "code",
   "execution_count": 4,
   "metadata": {},
   "outputs": [
    {
     "name": "stdout",
     "output_type": "stream",
     "text": [
      "Taipei City\n",
      "27 - 30\n"
     ]
    }
   ],
   "source": [
    "# Selenium Homework 8               \n",
    "# Created by Matsenjwa Colani        410921343\n",
    "\n",
    "city = input()\n",
    "\n",
    "if city != 'all':\n",
    "    city = city.title()\n",
    "\n",
    "cities = {\"Keelung City\": 2,\"Taipei City\": 3,\"New Taipei City\": 4,\"Taoyuan City\": 5,\"Hsinchu City\": 6,\"Hsinchu County\": 7,\n",
    "    \"Miaoli County\": 8,\"Taichung City\": 9,\"Changhua County\": 10, \"Nantou County\": 11,\"Yunlin County\": 12,\n",
    "    \"Chiayi City\": 13,\"Chiayi County\": 14,\"Tainan City\": 15,\"Kaohsiung City\": 16,\"Pingtung County\": 17,\n",
    "    \"Yilan County\": 18,\"Hualien County\": 19,\"Taitung County\": 20,\"Penghu County\": 21,\"Kinmen County\": 22,\n",
    "    \"Lienchiang County\": 23\n",
    "}\n",
    "\n",
    "from selenium import webdriver\n",
    "from selenium.webdriver.common.by import By\n",
    "from selenium.webdriver.chrome.service import Service\n",
    "from time import sleep\n",
    "\n",
    "driverPath = \"chromedriver.exe\"\n",
    "s = Service(executable_path=driverPath)\n",
    "\n",
    "browser = webdriver.Chrome(service=s)   \n",
    "browser.get('https://www.cwb.gov.tw/V8/E/W/County/County.html?CID=63')  \n",
    "\n",
    "browser.find_element(By.XPATH, '//*[@id=\"CID\"]').click()\n",
    "\n",
    "if city == 'all':\n",
    "    for key,val in cities.items():\n",
    "        # browser.find_element(By.XPATH, '//*[@id=\"CID\"]').click()\n",
    "        sleep(1)\n",
    "        browser.find_element(By.XPATH, f'//*[@id=\"CID\"]/option[{val}]').click()\n",
    "        temperature = browser.find_element(By.XPATH, '//*[@id=\"PC_Week_MOD\"]/tbody/tr[1]/td[1]/p/span[1]').text\n",
    "        \n",
    "        print(f\"{key}\")\n",
    "        print(f\"{temperature}\")\n",
    "        \n",
    "elif city in cities:\n",
    "    browser.find_element(By.XPATH, f'//*[@id=\"CID\"]/option[{cities[city]}]').click()\n",
    "    temperature = browser.find_element(By.XPATH, '//*[@id=\"PC_Week_MOD\"]/tbody/tr[1]/td[1]/p/span[1]').text\n",
    "    print(f\"{city}\")\n",
    "    print(f\"{temperature}\")\n",
    "    \n",
    "else:\n",
    "    print(\"Not found.\")\n",
    "\n",
    "browser.quit()  "
   ]
  }
 ],
 "metadata": {
  "kernelspec": {
   "display_name": "Python 3",
   "language": "python",
   "name": "python3"
  },
  "language_info": {
   "codemirror_mode": {
    "name": "ipython",
    "version": 3
   },
   "file_extension": ".py",
   "mimetype": "text/x-python",
   "name": "python",
   "nbconvert_exporter": "python",
   "pygments_lexer": "ipython3",
   "version": "3.11.1"
  },
  "orig_nbformat": 4
 },
 "nbformat": 4,
 "nbformat_minor": 2
}
