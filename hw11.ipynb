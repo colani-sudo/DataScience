{
 "cells": [
  {
   "cell_type": "code",
   "execution_count": 1,
   "metadata": {},
   "outputs": [
    {
     "ename": "KeyError",
     "evalue": "'Num of enroll in military school'",
     "output_type": "error",
     "traceback": [
      "\u001b[0;31m---------------------------------------------------------------------------\u001b[0m",
      "\u001b[0;31mKeyError\u001b[0m                                  Traceback (most recent call last)",
      "File \u001b[0;32m~/.pyenv/versions/3.11.1/lib/python3.11/site-packages/pandas/core/indexes/base.py:3802\u001b[0m, in \u001b[0;36mIndex.get_loc\u001b[0;34m(self, key, method, tolerance)\u001b[0m\n\u001b[1;32m   3801\u001b[0m \u001b[39mtry\u001b[39;00m:\n\u001b[0;32m-> 3802\u001b[0m     \u001b[39mreturn\u001b[39;00m \u001b[39mself\u001b[39;49m\u001b[39m.\u001b[39;49m_engine\u001b[39m.\u001b[39;49mget_loc(casted_key)\n\u001b[1;32m   3803\u001b[0m \u001b[39mexcept\u001b[39;00m \u001b[39mKeyError\u001b[39;00m \u001b[39mas\u001b[39;00m err:\n",
      "File \u001b[0;32m~/.pyenv/versions/3.11.1/lib/python3.11/site-packages/pandas/_libs/index.pyx:138\u001b[0m, in \u001b[0;36mpandas._libs.index.IndexEngine.get_loc\u001b[0;34m()\u001b[0m\n",
      "File \u001b[0;32m~/.pyenv/versions/3.11.1/lib/python3.11/site-packages/pandas/_libs/index.pyx:165\u001b[0m, in \u001b[0;36mpandas._libs.index.IndexEngine.get_loc\u001b[0;34m()\u001b[0m\n",
      "File \u001b[0;32mpandas/_libs/hashtable_class_helper.pxi:5745\u001b[0m, in \u001b[0;36mpandas._libs.hashtable.PyObjectHashTable.get_item\u001b[0;34m()\u001b[0m\n",
      "File \u001b[0;32mpandas/_libs/hashtable_class_helper.pxi:5753\u001b[0m, in \u001b[0;36mpandas._libs.hashtable.PyObjectHashTable.get_item\u001b[0;34m()\u001b[0m\n",
      "\u001b[0;31mKeyError\u001b[0m: 'Num of enroll in military school'",
      "\nThe above exception was the direct cause of the following exception:\n",
      "\u001b[0;31mKeyError\u001b[0m                                  Traceback (most recent call last)",
      "Cell \u001b[0;32mIn[1], line 20\u001b[0m\n\u001b[1;32m     18\u001b[0m p_univ_rate \u001b[39m=\u001b[39m \u001b[39mround\u001b[39m(df[\u001b[39m'\u001b[39m\u001b[39mNum of enroll in police university\u001b[39m\u001b[39m'\u001b[39m] \u001b[39m/\u001b[39m df[\u001b[39m'\u001b[39m\u001b[39mNum of graduates\u001b[39m\u001b[39m'\u001b[39m], \u001b[39m4\u001b[39m)\n\u001b[1;32m     19\u001b[0m p_college_rate \u001b[39m=\u001b[39m \u001b[39mround\u001b[39m(df[\u001b[39m'\u001b[39m\u001b[39mNum of enroll in police college\u001b[39m\u001b[39m'\u001b[39m] \u001b[39m/\u001b[39m df[\u001b[39m'\u001b[39m\u001b[39mNum of graduates\u001b[39m\u001b[39m'\u001b[39m], \u001b[39m4\u001b[39m)\n\u001b[0;32m---> 20\u001b[0m mil_school_rate \u001b[39m=\u001b[39m \u001b[39mround\u001b[39m(df[\u001b[39m'\u001b[39;49m\u001b[39mNum of enroll in military school\u001b[39;49m\u001b[39m'\u001b[39;49m] \u001b[39m/\u001b[39m df[\u001b[39m'\u001b[39m\u001b[39mNum of graduates\u001b[39m\u001b[39m'\u001b[39m], \u001b[39m4\u001b[39m)\n\u001b[1;32m     21\u001b[0m mil_school_avg \u001b[39m=\u001b[39m (df[\u001b[39m\"\u001b[39m\u001b[39mNum of enroll in military school\u001b[39m\u001b[39m\"\u001b[39m] \u001b[39m/\u001b[39m df[\u001b[39m\"\u001b[39m\u001b[39mHigh school system\u001b[39m\u001b[39m\"\u001b[39m]\u001b[39m.\u001b[39mvalue_counts()\u001b[39m.\u001b[39msum())\u001b[39m.\u001b[39mround(\u001b[39m4\u001b[39m)\n\u001b[1;32m     23\u001b[0m \u001b[39m# Create a new data frame with the enrollment rates\u001b[39;00m\n",
      "File \u001b[0;32m~/.pyenv/versions/3.11.1/lib/python3.11/site-packages/pandas/core/frame.py:3807\u001b[0m, in \u001b[0;36mDataFrame.__getitem__\u001b[0;34m(self, key)\u001b[0m\n\u001b[1;32m   3805\u001b[0m \u001b[39mif\u001b[39;00m \u001b[39mself\u001b[39m\u001b[39m.\u001b[39mcolumns\u001b[39m.\u001b[39mnlevels \u001b[39m>\u001b[39m \u001b[39m1\u001b[39m:\n\u001b[1;32m   3806\u001b[0m     \u001b[39mreturn\u001b[39;00m \u001b[39mself\u001b[39m\u001b[39m.\u001b[39m_getitem_multilevel(key)\n\u001b[0;32m-> 3807\u001b[0m indexer \u001b[39m=\u001b[39m \u001b[39mself\u001b[39;49m\u001b[39m.\u001b[39;49mcolumns\u001b[39m.\u001b[39;49mget_loc(key)\n\u001b[1;32m   3808\u001b[0m \u001b[39mif\u001b[39;00m is_integer(indexer):\n\u001b[1;32m   3809\u001b[0m     indexer \u001b[39m=\u001b[39m [indexer]\n",
      "File \u001b[0;32m~/.pyenv/versions/3.11.1/lib/python3.11/site-packages/pandas/core/indexes/base.py:3804\u001b[0m, in \u001b[0;36mIndex.get_loc\u001b[0;34m(self, key, method, tolerance)\u001b[0m\n\u001b[1;32m   3802\u001b[0m     \u001b[39mreturn\u001b[39;00m \u001b[39mself\u001b[39m\u001b[39m.\u001b[39m_engine\u001b[39m.\u001b[39mget_loc(casted_key)\n\u001b[1;32m   3803\u001b[0m \u001b[39mexcept\u001b[39;00m \u001b[39mKeyError\u001b[39;00m \u001b[39mas\u001b[39;00m err:\n\u001b[0;32m-> 3804\u001b[0m     \u001b[39mraise\u001b[39;00m \u001b[39mKeyError\u001b[39;00m(key) \u001b[39mfrom\u001b[39;00m \u001b[39merr\u001b[39;00m\n\u001b[1;32m   3805\u001b[0m \u001b[39mexcept\u001b[39;00m \u001b[39mTypeError\u001b[39;00m:\n\u001b[1;32m   3806\u001b[0m     \u001b[39m# If we have a listlike key, _check_indexing_error will raise\u001b[39;00m\n\u001b[1;32m   3807\u001b[0m     \u001b[39m#  InvalidIndexError. Otherwise we fall through and re-raise\u001b[39;00m\n\u001b[1;32m   3808\u001b[0m     \u001b[39m#  the TypeError.\u001b[39;00m\n\u001b[1;32m   3809\u001b[0m     \u001b[39mself\u001b[39m\u001b[39m.\u001b[39m_check_indexing_error(key)\n",
      "\u001b[0;31mKeyError\u001b[0m: 'Num of enroll in military school'"
     ]
    }
   ],
   "source": [
    "import pandas as pd\n",
    "\n",
    "# Import a file in CSV format\n",
    "df = pd.read_csv('data.csv')\n",
    "\n",
    "# Select relevant columns\n",
    "df = df[[df.columns[0], df.columns[1], df.columns[2], df.columns[5], df.columns[6]]]\n",
    "\n",
    "# Rename columns\n",
    "new_columns =  [\"High school system\", \n",
    "                \"Gender\",\n",
    "                \"Num of graduates\",\n",
    "                \"Num of enroll in police university\",\n",
    "                \"Num of enroll in police college\"]\n",
    "df.columns = new_columns\n",
    "\n",
    "# Calculate new columns\n",
    "p_univ_rate = round(df['Num of enroll in police university'] / df['Num of graduates'], 4)\n",
    "p_college_rate = round(df['Num of enroll in police college'] / df['Num of graduates'], 4)\n",
    "mil_school_rate = round(df['Num of enroll in military school'] / df['Num of graduates'], 4)\n",
    "mil_school_avg = (df[\"Num of enroll in military school\"] / df[\"High school system\"].value_counts().sum()).round(4)\n",
    "\n",
    "# Create a new data frame with the enrollment rates\n",
    "new_df = pd.DataFrame({\n",
    "    \"Military school enrollment average\": mil_school_avg,\n",
    "    \"Police university enrollment rate\": p_univ_rate,\n",
    "    \"Police college enrollment rate\": p_college_rate,\n",
    "    \"Military school enrollment rate\": mil_school_rate\n",
    "})\n",
    "\n",
    "# Join the two data frames\n",
    "df = df.join(new_df)\n",
    "\n",
    "# Print the updated data frame\n",
    "print(df)\n"
   ]
  }
 ],
 "metadata": {
  "kernelspec": {
   "display_name": "Python 3",
   "language": "python",
   "name": "python3"
  },
  "language_info": {
   "codemirror_mode": {
    "name": "ipython",
    "version": 3
   },
   "file_extension": ".py",
   "mimetype": "text/x-python",
   "name": "python",
   "nbconvert_exporter": "python",
   "pygments_lexer": "ipython3",
   "version": "3.11.1"
  },
  "orig_nbformat": 4
 },
 "nbformat": 4,
 "nbformat_minor": 2
}
