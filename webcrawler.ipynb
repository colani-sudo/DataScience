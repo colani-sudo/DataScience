{
 "cells": [
  {
   "cell_type": "code",
   "execution_count": 9,
   "metadata": {},
   "outputs": [],
   "source": [
    "# Web Crawling HW5               \n",
    "# Created by Matsenjwa Colani        410921343\n",
    "\n",
    "#import libraries\n",
    "    \n",
    "import requests\n",
    "from bs4 import BeautifulSoup\n",
    "import pandas as pd\n",
    "\n",
    "url = 'https://sys.ndhu.edu.tw/SA/XSL_ApplyRWD/ActApply.aspx?lang=en'\n",
    "page = requests.get(url)\n",
    "soup = BeautifulSoup(page.text, 'html.parser')\n",
    "\n",
    "#print(soup.table)"
   ]
  },
  {
   "cell_type": "code",
   "execution_count": 46,
   "metadata": {},
   "outputs": [
    {
     "name": "stdout",
     "output_type": "stream",
     "text": [
      "['【French Corner】111-2 French Lunch Hour every Thursday Session 2', '(111-2學期會計學系演講－「The relationship between directors interlocked with strategic peers, managerial ability, and managerial slack」)', '(【法律學系專題演講】「勞動權益」)', '(文字文字動起來：運用桌遊結合識字語文教學)', '(賴威宇經驗座談)', '(【臺灣系學生會】 電影放映會《憂鬱之島》暨映後座談)', '(【會計審計實務講座】政府預算、稅收超徵與普發現金)', '(【111-2學期資管演講】數位轉型思維與觀念)', '(電影欣賞與映後座談)', 'Friday Night ~Exotic Night']\n"
     ]
    }
   ],
   "source": [
    "activity_name = []\n",
    "for tr in range(10):\n",
    "    id_ = (f'BodyContent_gvActs_lblGv_act_name_{tr}')\n",
    "    name = soup.find('span', id=id_).text\n",
    "    activity_name.append(name)\n",
    "print(activity_name)"
   ]
  },
  {
   "cell_type": "code",
   "execution_count": 70,
   "metadata": {},
   "outputs": [
    {
     "name": "stdout",
     "output_type": "stream",
     "text": [
      "[1, 3, 2, 2, 2, 2, 3, 3, 2, 0]\n"
     ]
    }
   ],
   "source": [
    "\n",
    "cert_hours = []\n",
    "for tr in range(10):\n",
    "    id_ = (f\"BodyContent_gvActs_lblGv_xsl_check_{tr}\")\n",
    "    hours = int(soup.find('span', id=id_).text[-1].replace('t','0'))\n",
    "    cert_hours.append(hours)\n",
    "print(cert_hours)"
   ]
  },
  {
   "cell_type": "code",
   "execution_count": 62,
   "metadata": {},
   "outputs": [
    {
     "name": "stdout",
     "output_type": "stream",
     "text": [
      "[19, 8, 46, 29, 6, 50, 10, 60, 32, 21]\n"
     ]
    }
   ],
   "source": [
    "    \n",
    "registered = []\n",
    "for tr in range(10):\n",
    "    id_ = (f\"BodyContent_gvActs_lblGv_reg_num_{tr}\")\n",
    "    number = int(soup.find('span', id=id_).text.split('/')[0].replace(' ', ''))\n",
    "    registered.append(number)\n",
    "print(registered)"
   ]
  },
  {
   "cell_type": "code",
   "execution_count": 39,
   "metadata": {},
   "outputs": [
    {
     "name": "stdout",
     "output_type": "stream",
     "text": [
      "['2023/03/16(Thu)00:00~ 2023/03/23(Thu)08:00', '2023/03/21(Tue)21:00~ 2023/03/23(Thu)08:00', '2023/03/16(Thu)12:00~ 2023/03/23(Thu)12:00', '2023/03/14(Tue)08:00~ 2023/03/23(Thu)12:00', '2023/03/09(Thu)00:00~ 2023/03/23(Thu)12:00', '2023/03/16(Thu)00:00~ 2023/03/23(Thu)12:00', '2023/03/17(Fri)00:00~ 2023/03/23(Thu)12:00', '2023/03/06(Mon)12:00~ 2023/03/23(Thu)12:00', '2023/03/17(Fri)00:00~ 2023/03/23(Thu)16:00', '2023/03/20(Mon)16:00~ 2023/03/23(Thu)17:00']\n"
     ]
    }
   ],
   "source": [
    "reg_time = []\n",
    "for tr in range(10):\n",
    "    id_ = (f'BodyContent_gvActs_lblGv_reg_dt_{tr}')\n",
    "    time = soup.find('span', id=id_).text\n",
    "    reg_time.append(time)\n",
    "print(reg_time)    "
   ]
  },
  {
   "cell_type": "code",
   "execution_count": 42,
   "metadata": {},
   "outputs": [
    {
     "name": "stdout",
     "output_type": "stream",
     "text": [
      "['2023/03/23(Thu) 12:15~13:15', '2023/03/23(Thu) 09:00~12:00', '2023/03/24(Fri) 14:00~16:00', '2023/03/24(Fri) 14:00~16:00', '2023/03/24(Fri) 13:00~15:00', '2023/03/24(Fri) 19:00~21:20', '2023/03/23(Thu) 14:10~17:00', '2023/03/24(Fri) 14:00~17:00', '2023/03/23(Thu) 19:00~21:00', '2023/03/24(Fri) 18:30~20:30']\n"
     ]
    }
   ],
   "source": [
    "activity_time = []\n",
    "for tr in range(10):    \n",
    "    id_ = (f'BodyContent_gvActs_lblGv_act_dt_{tr}')    \n",
    "    time = soup.find('span', id=id_).text\n",
    "    activity_time.append(time)\n",
    "print(activity_time)"
   ]
  },
  {
   "cell_type": "code",
   "execution_count": 60,
   "metadata": {},
   "outputs": [],
   "source": [
    "columns = ['Name of the Activity',\n",
    "                  'Number of Certified Hours',\n",
    "                   'Number of people who have registered',\n",
    "                   'Date and time of registration',\n",
    "                   'Date and Time of the activity']\n",
    "rows = [activity_name, cert_hours, registered, reg_time, activity_time]"
   ]
  },
  {
   "cell_type": "code",
   "execution_count": 80,
   "metadata": {},
   "outputs": [
    {
     "name": "stdout",
     "output_type": "stream",
     "text": [
      "[['【French Corner】111-2 French Lunch Hour every Thursday Session 2' '1'\n",
      "  '19' '2023/03/16(Thu)00:00~ 2023/03/23(Thu)08:00'\n",
      "  '2023/03/23(Thu) 12:15~13:15']\n",
      " ['(111-2學期會計學系演講－「The relationship between directors interlocked with strategic peers, managerial ability, and managerial slack」)'\n",
      "  '3' '8' '2023/03/21(Tue)21:00~ 2023/03/23(Thu)08:00'\n",
      "  '2023/03/23(Thu) 09:00~12:00']\n",
      " ['(【法律學系專題演講】「勞動權益」)' '2' '46'\n",
      "  '2023/03/16(Thu)12:00~ 2023/03/23(Thu)12:00'\n",
      "  '2023/03/24(Fri) 14:00~16:00']\n",
      " ['(文字文字動起來：運用桌遊結合識字語文教學)' '2' '29'\n",
      "  '2023/03/14(Tue)08:00~ 2023/03/23(Thu)12:00'\n",
      "  '2023/03/24(Fri) 14:00~16:00']\n",
      " ['(賴威宇經驗座談)' '2' '6' '2023/03/09(Thu)00:00~ 2023/03/23(Thu)12:00'\n",
      "  '2023/03/24(Fri) 13:00~15:00']\n",
      " ['(【臺灣系學生會】 電影放映會《憂鬱之島》暨映後座談)' '2' '50'\n",
      "  '2023/03/16(Thu)00:00~ 2023/03/23(Thu)12:00'\n",
      "  '2023/03/24(Fri) 19:00~21:20']\n",
      " ['(【會計審計實務講座】政府預算、稅收超徵與普發現金)' '3' '10'\n",
      "  '2023/03/17(Fri)00:00~ 2023/03/23(Thu)12:00'\n",
      "  '2023/03/23(Thu) 14:10~17:00']\n",
      " ['(【111-2學期資管演講】數位轉型思維與觀念)' '3' '60'\n",
      "  '2023/03/06(Mon)12:00~ 2023/03/23(Thu)12:00'\n",
      "  '2023/03/24(Fri) 14:00~17:00']\n",
      " ['(電影欣賞與映後座談)' '2' '32' '2023/03/17(Fri)00:00~ 2023/03/23(Thu)16:00'\n",
      "  '2023/03/23(Thu) 19:00~21:00']\n",
      " ['Friday Night ~Exotic Night' '0' '21'\n",
      "  '2023/03/20(Mon)16:00~ 2023/03/23(Thu)17:00'\n",
      "  '2023/03/24(Fri) 18:30~20:30']]\n"
     ]
    }
   ],
   "source": [
    "import numpy as np\n",
    "transposed = np.array([activity_name, cert_hours, registered, reg_time, activity_time]).T\n",
    "\n",
    "print(transposed)"
   ]
  },
  {
   "cell_type": "code",
   "execution_count": 81,
   "metadata": {},
   "outputs": [
    {
     "data": {
      "text/html": [
       "<div>\n",
       "<style scoped>\n",
       "    .dataframe tbody tr th:only-of-type {\n",
       "        vertical-align: middle;\n",
       "    }\n",
       "\n",
       "    .dataframe tbody tr th {\n",
       "        vertical-align: top;\n",
       "    }\n",
       "\n",
       "    .dataframe thead th {\n",
       "        text-align: right;\n",
       "    }\n",
       "</style>\n",
       "<table border=\"1\" class=\"dataframe\">\n",
       "  <thead>\n",
       "    <tr style=\"text-align: right;\">\n",
       "      <th></th>\n",
       "      <th>Name of the Activity</th>\n",
       "      <th>Number of Certified Hours</th>\n",
       "      <th>Number of people who have registered</th>\n",
       "      <th>Date and time of registration</th>\n",
       "      <th>Date and Time of the activity</th>\n",
       "    </tr>\n",
       "  </thead>\n",
       "  <tbody>\n",
       "    <tr>\n",
       "      <th>1</th>\n",
       "      <td>【French Corner】111-2 French Lunch Hour every T...</td>\n",
       "      <td>1</td>\n",
       "      <td>19</td>\n",
       "      <td>2023/03/16(Thu)00:00~ 2023/03/23(Thu)08:00</td>\n",
       "      <td>2023/03/23(Thu) 12:15~13:15</td>\n",
       "    </tr>\n",
       "    <tr>\n",
       "      <th>2</th>\n",
       "      <td>(111-2學期會計學系演講－「The relationship between direc...</td>\n",
       "      <td>3</td>\n",
       "      <td>8</td>\n",
       "      <td>2023/03/21(Tue)21:00~ 2023/03/23(Thu)08:00</td>\n",
       "      <td>2023/03/23(Thu) 09:00~12:00</td>\n",
       "    </tr>\n",
       "    <tr>\n",
       "      <th>3</th>\n",
       "      <td>(【法律學系專題演講】「勞動權益」)</td>\n",
       "      <td>2</td>\n",
       "      <td>46</td>\n",
       "      <td>2023/03/16(Thu)12:00~ 2023/03/23(Thu)12:00</td>\n",
       "      <td>2023/03/24(Fri) 14:00~16:00</td>\n",
       "    </tr>\n",
       "    <tr>\n",
       "      <th>4</th>\n",
       "      <td>(文字文字動起來：運用桌遊結合識字語文教學)</td>\n",
       "      <td>2</td>\n",
       "      <td>29</td>\n",
       "      <td>2023/03/14(Tue)08:00~ 2023/03/23(Thu)12:00</td>\n",
       "      <td>2023/03/24(Fri) 14:00~16:00</td>\n",
       "    </tr>\n",
       "    <tr>\n",
       "      <th>5</th>\n",
       "      <td>(賴威宇經驗座談)</td>\n",
       "      <td>2</td>\n",
       "      <td>6</td>\n",
       "      <td>2023/03/09(Thu)00:00~ 2023/03/23(Thu)12:00</td>\n",
       "      <td>2023/03/24(Fri) 13:00~15:00</td>\n",
       "    </tr>\n",
       "    <tr>\n",
       "      <th>6</th>\n",
       "      <td>(【臺灣系學生會】 電影放映會《憂鬱之島》暨映後座談)</td>\n",
       "      <td>2</td>\n",
       "      <td>50</td>\n",
       "      <td>2023/03/16(Thu)00:00~ 2023/03/23(Thu)12:00</td>\n",
       "      <td>2023/03/24(Fri) 19:00~21:20</td>\n",
       "    </tr>\n",
       "    <tr>\n",
       "      <th>7</th>\n",
       "      <td>(【會計審計實務講座】政府預算、稅收超徵與普發現金)</td>\n",
       "      <td>3</td>\n",
       "      <td>10</td>\n",
       "      <td>2023/03/17(Fri)00:00~ 2023/03/23(Thu)12:00</td>\n",
       "      <td>2023/03/23(Thu) 14:10~17:00</td>\n",
       "    </tr>\n",
       "    <tr>\n",
       "      <th>8</th>\n",
       "      <td>(【111-2學期資管演講】數位轉型思維與觀念)</td>\n",
       "      <td>3</td>\n",
       "      <td>60</td>\n",
       "      <td>2023/03/06(Mon)12:00~ 2023/03/23(Thu)12:00</td>\n",
       "      <td>2023/03/24(Fri) 14:00~17:00</td>\n",
       "    </tr>\n",
       "    <tr>\n",
       "      <th>9</th>\n",
       "      <td>(電影欣賞與映後座談)</td>\n",
       "      <td>2</td>\n",
       "      <td>32</td>\n",
       "      <td>2023/03/17(Fri)00:00~ 2023/03/23(Thu)16:00</td>\n",
       "      <td>2023/03/23(Thu) 19:00~21:00</td>\n",
       "    </tr>\n",
       "    <tr>\n",
       "      <th>10</th>\n",
       "      <td>Friday Night ~Exotic Night</td>\n",
       "      <td>0</td>\n",
       "      <td>21</td>\n",
       "      <td>2023/03/20(Mon)16:00~ 2023/03/23(Thu)17:00</td>\n",
       "      <td>2023/03/24(Fri) 18:30~20:30</td>\n",
       "    </tr>\n",
       "  </tbody>\n",
       "</table>\n",
       "</div>"
      ],
      "text/plain": [
       "                                 Name of the Activity  \\\n",
       "1   【French Corner】111-2 French Lunch Hour every T...   \n",
       "2   (111-2學期會計學系演講－「The relationship between direc...   \n",
       "3                                  (【法律學系專題演講】「勞動權益」)   \n",
       "4                              (文字文字動起來：運用桌遊結合識字語文教學)   \n",
       "5                                           (賴威宇經驗座談)   \n",
       "6                         (【臺灣系學生會】 電影放映會《憂鬱之島》暨映後座談)   \n",
       "7                          (【會計審計實務講座】政府預算、稅收超徵與普發現金)   \n",
       "8                            (【111-2學期資管演講】數位轉型思維與觀念)   \n",
       "9                                         (電影欣賞與映後座談)   \n",
       "10                         Friday Night ~Exotic Night   \n",
       "\n",
       "   Number of Certified Hours Number of people who have registered  \\\n",
       "1                          1                                   19   \n",
       "2                          3                                    8   \n",
       "3                          2                                   46   \n",
       "4                          2                                   29   \n",
       "5                          2                                    6   \n",
       "6                          2                                   50   \n",
       "7                          3                                   10   \n",
       "8                          3                                   60   \n",
       "9                          2                                   32   \n",
       "10                         0                                   21   \n",
       "\n",
       "                 Date and time of registration Date and Time of the activity  \n",
       "1   2023/03/16(Thu)00:00~ 2023/03/23(Thu)08:00   2023/03/23(Thu) 12:15~13:15  \n",
       "2   2023/03/21(Tue)21:00~ 2023/03/23(Thu)08:00   2023/03/23(Thu) 09:00~12:00  \n",
       "3   2023/03/16(Thu)12:00~ 2023/03/23(Thu)12:00   2023/03/24(Fri) 14:00~16:00  \n",
       "4   2023/03/14(Tue)08:00~ 2023/03/23(Thu)12:00   2023/03/24(Fri) 14:00~16:00  \n",
       "5   2023/03/09(Thu)00:00~ 2023/03/23(Thu)12:00   2023/03/24(Fri) 13:00~15:00  \n",
       "6   2023/03/16(Thu)00:00~ 2023/03/23(Thu)12:00   2023/03/24(Fri) 19:00~21:20  \n",
       "7   2023/03/17(Fri)00:00~ 2023/03/23(Thu)12:00   2023/03/23(Thu) 14:10~17:00  \n",
       "8   2023/03/06(Mon)12:00~ 2023/03/23(Thu)12:00   2023/03/24(Fri) 14:00~17:00  \n",
       "9   2023/03/17(Fri)00:00~ 2023/03/23(Thu)16:00   2023/03/23(Thu) 19:00~21:00  \n",
       "10  2023/03/20(Mon)16:00~ 2023/03/23(Thu)17:00   2023/03/24(Fri) 18:30~20:30  "
      ]
     },
     "metadata": {},
     "output_type": "display_data"
    }
   ],
   "source": [
    "import pandas as pd\n",
    "dataframe = pd.DataFrame(transposed,columns=columns)\n",
    "dataframe.index = np.arange(1, len(dataframe) + 1)\n",
    "from IPython.display import display\n",
    "display(dataframe)"
   ]
  }
 ],
 "metadata": {
  "kernelspec": {
   "display_name": "Python 3",
   "language": "python",
   "name": "python3"
  },
  "language_info": {
   "codemirror_mode": {
    "name": "ipython",
    "version": 3
   },
   "file_extension": ".py",
   "mimetype": "text/x-python",
   "name": "python",
   "nbconvert_exporter": "python",
   "pygments_lexer": "ipython3",
   "version": "3.11.1"
  },
  "orig_nbformat": 4
 },
 "nbformat": 4,
 "nbformat_minor": 2
}
