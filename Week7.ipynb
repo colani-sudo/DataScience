{
 "cells": [
  {
   "cell_type": "code",
   "execution_count": 35,
   "metadata": {},
   "outputs": [
    {
     "name": "stdout",
     "output_type": "stream",
     "text": [
      "2\n",
      "6\n",
      "12\n",
      "20\n",
      "30\n",
      "42\n",
      "56\n"
     ]
    }
   ],
   "source": [
    "import math\n",
    "num = 7 #abs(int(input(\"Enter a number : \")))\n",
    "while num > 99:\n",
    "    num = abs(int(input(\"Enter a number : \")))\n",
    "prev = 1\n",
    "num_list =[]\n",
    "for i in range(1, num+1):\n",
    "        prev = prev + 1\n",
    "        num_list.append(prev * i)\n",
    "#print(num_list)\n",
    "\n",
    "# print a triangle of numbers\n",
    "size = len(num_list)//2\n",
    "count = 0\n",
    "\n",
    "for index, x in enumerate(num_list):\n",
    "    if(index < count):\n",
    "        print(\"   \" * size, end=\"\")\n",
    "    if count < index:\n",
    "        print(x , end=\"\")\n",
    "    if index == count:\n",
    "        print(x , end=\"\\n\")\n",
    "        \n",
    "    size = size - 1\n",
    "    count = count + 1\n",
    "\n"
   ]
  }
 ],
 "metadata": {
  "kernelspec": {
   "display_name": "Python 3",
   "language": "python",
   "name": "python3"
  },
  "language_info": {
   "codemirror_mode": {
    "name": "ipython",
    "version": 3
   },
   "file_extension": ".py",
   "mimetype": "text/x-python",
   "name": "python",
   "nbconvert_exporter": "python",
   "pygments_lexer": "ipython3",
   "version": "3.11.1"
  },
  "orig_nbformat": 4
 },
 "nbformat": 4,
 "nbformat_minor": 2
}
